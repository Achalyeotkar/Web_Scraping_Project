{
 "cells": [
  {
   "cell_type": "markdown",
   "id": "7339431a-2bd9-4e3f-b0fc-a4679e711808",
   "metadata": {},
   "source": [
    "####  Web Scraping Fortune 500 Companies from Wikipedia"
   ]
  },
  {
   "cell_type": "code",
   "execution_count": 1,
   "id": "30648663-9751-4a05-8c3a-2b38ce8bd599",
   "metadata": {},
   "outputs": [],
   "source": [
    "import requests\n",
    "from bs4 import BeautifulSoup\n",
    "import pandas as pd"
   ]
  },
  {
   "cell_type": "markdown",
   "id": "b577b868-2840-4f03-9f17-5be9ce2aa7b0",
   "metadata": {},
   "source": [
    "#### Step 1: Send a request to the website"
   ]
  },
  {
   "cell_type": "code",
   "execution_count": 3,
   "id": "7b1f313c-a3ca-43e7-b15e-df7a5f8bd215",
   "metadata": {},
   "outputs": [],
   "source": [
    "url = \"https://en.wikipedia.org/wiki/List_of_largest_companies_in_the_United_States_by_revenue\"\n",
    "response = requests.get(url)\n"
   ]
  },
  {
   "cell_type": "markdown",
   "id": "bd6dc2b0-8d17-40f2-8667-c5288a8b2cd5",
   "metadata": {},
   "source": [
    "### Step 2: Parse the HTML content"
   ]
  },
  {
   "cell_type": "code",
   "execution_count": 5,
   "id": "234a1d01-4686-418c-b57b-05cb0bfac579",
   "metadata": {},
   "outputs": [],
   "source": [
    "soup = BeautifulSoup(response.text, 'html.parser')\n"
   ]
  },
  {
   "cell_type": "markdown",
   "id": "4eba0709-b993-4252-b4e2-50c56445101e",
   "metadata": {},
   "source": [
    "### Step 3: Find the correct table (first table on the page)"
   ]
  },
  {
   "cell_type": "code",
   "execution_count": 26,
   "id": "0a9e8324-f432-41c4-849e-8d4e89df8143",
   "metadata": {},
   "outputs": [
    {
     "name": "stderr",
     "output_type": "stream",
     "text": [
      "C:\\Users\\Admin\\AppData\\Local\\Temp\\ipykernel_21780\\2406663731.py:1: FutureWarning: Passing literal html to 'read_html' is deprecated and will be removed in a future version. To read from a literal string, wrap it in a 'StringIO' object.\n",
      "  tables = pd.read_html(response.text)\n"
     ]
    }
   ],
   "source": [
    "tables = pd.read_html(response.text)\n",
    "df = tables[0]  # First table usually has the main data\n"
   ]
  },
  {
   "cell_type": "markdown",
   "id": "6d4ffcc1-3048-46cf-81a9-7cc2b5d0dd37",
   "metadata": {},
   "source": [
    "### Step 4: Display first few rows"
   ]
  },
  {
   "cell_type": "code",
   "execution_count": 9,
   "id": "61c02be1-3baf-49c9-b0c6-efd706e2d295",
   "metadata": {},
   "outputs": [
    {
     "name": "stdout",
     "output_type": "stream",
     "text": [
      "   Rank                Name                    Industry  \\\n",
      "0     1             Walmart                      Retail   \n",
      "1     2              Amazon  Retail and cloud computing   \n",
      "2     3               Apple        Electronics industry   \n",
      "3     4  UnitedHealth Group                  Healthcare   \n",
      "4     5  Berkshire Hathaway                Conglomerate   \n",
      "\n",
      "   Revenue (USD millions) Revenue growth  Employees           Headquarters  \n",
      "0                  648125           6.0%    2100000  Bentonville, Arkansas  \n",
      "1                  574785          11.9%    1525000    Seattle, Washington  \n",
      "2                  383482          -2.8%     161000  Cupertino, California  \n",
      "3                  371622          14.6%     440000  Minnetonka, Minnesota  \n",
      "4                  364482          20.7%     396500        Omaha, Nebraska  \n"
     ]
    }
   ],
   "source": [
    "# Step 4: Display first few rows\n",
    "print(df.head())"
   ]
  },
  {
   "cell_type": "markdown",
   "id": "d3a2f83f-36a7-4357-b68d-1f7604ffc05c",
   "metadata": {},
   "source": [
    "### Step 5: Save to CSV"
   ]
  },
  {
   "cell_type": "code",
   "execution_count": 32,
   "id": "079d470e-8aef-49a1-aa5f-51e1c4a70557",
   "metadata": {},
   "outputs": [
    {
     "name": "stdout",
     "output_type": "stream",
     "text": [
      "Data saved to 'largest_us_companies.csv'\n"
     ]
    }
   ],
   "source": [
    "df.to_csv(\"largest_us_companies.csv\", index=False)\n",
    "print(\"Data saved to 'largest_us_companies.csv'\")\n"
   ]
  },
  {
   "cell_type": "code",
   "execution_count": null,
   "id": "def4e2e6-8dc9-4f46-9637-abdb05b8956c",
   "metadata": {},
   "outputs": [],
   "source": []
  }
 ],
 "metadata": {
  "kernelspec": {
   "display_name": "Python 3 (ipykernel)",
   "language": "python",
   "name": "python3"
  },
  "language_info": {
   "codemirror_mode": {
    "name": "ipython",
    "version": 3
   },
   "file_extension": ".py",
   "mimetype": "text/x-python",
   "name": "python",
   "nbconvert_exporter": "python",
   "pygments_lexer": "ipython3",
   "version": "3.12.4"
  }
 },
 "nbformat": 4,
 "nbformat_minor": 5
}
